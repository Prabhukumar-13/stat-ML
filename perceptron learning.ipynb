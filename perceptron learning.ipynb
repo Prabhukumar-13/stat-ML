{
  "nbformat": 4,
  "nbformat_minor": 0,
  "metadata": {
    "colab": {
      "provenance": []
    },
    "kernelspec": {
      "name": "python3",
      "display_name": "Python 3"
    },
    "language_info": {
      "name": "python"
    }
  },
  "cells": [
    {
      "cell_type": "code",
      "execution_count": 22,
      "metadata": {
        "colab": {
          "base_uri": "https://localhost:8080/"
        },
        "id": "VI-AMpCHcjtE",
        "outputId": "290f0fbb-7533-4990-9e89-92acf6d4cc05"
      },
      "outputs": [
        {
          "output_type": "stream",
          "name": "stdout",
          "text": [
            "      battery_power  blue  clock_speed  dual_sim  fc  four_g  int_memory  \\\n",
            "0               842     0          2.2         0   1       0           7   \n",
            "1              1021     1          0.5         1   0       1          53   \n",
            "2               563     1          0.5         1   2       1          41   \n",
            "3               615     1          2.5         0   0       0          10   \n",
            "4              1821     1          1.2         0  13       1          44   \n",
            "...             ...   ...          ...       ...  ..     ...         ...   \n",
            "1995            794     1          0.5         1   0       1           2   \n",
            "1996           1965     1          2.6         1   0       0          39   \n",
            "1997           1911     0          0.9         1   1       1          36   \n",
            "1998           1512     0          0.9         0   4       1          46   \n",
            "1999            510     1          2.0         1   5       1          45   \n",
            "\n",
            "      m_dep  mobile_wt  n_cores  ...  px_height  px_width   ram  sc_h  sc_w  \\\n",
            "0       0.6        188        2  ...         20       756  2549     9     7   \n",
            "1       0.7        136        3  ...        905      1988  2631    17     3   \n",
            "2       0.9        145        5  ...       1263      1716  2603    11     2   \n",
            "3       0.8        131        6  ...       1216      1786  2769    16     8   \n",
            "4       0.6        141        2  ...       1208      1212  1411     8     2   \n",
            "...     ...        ...      ...  ...        ...       ...   ...   ...   ...   \n",
            "1995    0.8        106        6  ...       1222      1890   668    13     4   \n",
            "1996    0.2        187        4  ...        915      1965  2032    11    10   \n",
            "1997    0.7        108        8  ...        868      1632  3057     9     1   \n",
            "1998    0.1        145        5  ...        336       670   869    18    10   \n",
            "1999    0.9        168        6  ...        483       754  3919    19     4   \n",
            "\n",
            "      talk_time  three_g  touch_screen  wifi  price_range  \n",
            "0            19        0             0     1            1  \n",
            "1             7        1             1     0            2  \n",
            "2             9        1             1     0            2  \n",
            "3            11        1             0     0            2  \n",
            "4            15        1             1     0            1  \n",
            "...         ...      ...           ...   ...          ...  \n",
            "1995         19        1             1     0            0  \n",
            "1996         16        1             1     1            2  \n",
            "1997          5        1             1     0            3  \n",
            "1998         19        1             1     1            0  \n",
            "1999          2        1             1     1            3  \n",
            "\n",
            "[2000 rows x 21 columns]\n"
          ]
        }
      ],
      "source": [
        "import pandas as pd\n",
        "a=pd.read_csv('/content/train.csv')\n",
        "print(a)"
      ]
    },
    {
      "cell_type": "code",
      "source": [
        "y=a['price_range']\n",
        "print(y)"
      ],
      "metadata": {
        "id": "VWoXJrIcddm3",
        "colab": {
          "base_uri": "https://localhost:8080/"
        },
        "outputId": "71ab56b9-b65d-4afd-cd9f-c790a9fbd841"
      },
      "execution_count": 23,
      "outputs": [
        {
          "output_type": "stream",
          "name": "stdout",
          "text": [
            "0       1\n",
            "1       2\n",
            "2       2\n",
            "3       2\n",
            "4       1\n",
            "       ..\n",
            "1995    0\n",
            "1996    2\n",
            "1997    3\n",
            "1998    0\n",
            "1999    3\n",
            "Name: price_range, Length: 2000, dtype: int64\n"
          ]
        }
      ]
    },
    {
      "cell_type": "code",
      "source": [
        "print(max(y))\n",
        "print(min(y))"
      ],
      "metadata": {
        "id": "GTWaP8rzeRYZ",
        "colab": {
          "base_uri": "https://localhost:8080/"
        },
        "outputId": "62216398-781e-49a4-b4d6-bda358469cb7"
      },
      "execution_count": 24,
      "outputs": [
        {
          "output_type": "stream",
          "name": "stdout",
          "text": [
            "3\n",
            "0\n"
          ]
        }
      ]
    },
    {
      "cell_type": "code",
      "source": [
        "x=a.drop(columns=['price_range'])\n",
        "print(x)"
      ],
      "metadata": {
        "id": "1v3AY4bKebxI"
      },
      "execution_count": null,
      "outputs": []
    },
    {
      "cell_type": "code",
      "source": [
        "from sklearn.preprocessing import MinMaxScaler\n",
        "scaler=MinMaxScaler(feature_range=(0,1))\n",
        "x_train=scaler.fit_transform(x);"
      ],
      "metadata": {
        "id": "SAHtIVkKfaV_"
      },
      "execution_count": 26,
      "outputs": []
    },
    {
      "cell_type": "code",
      "source": [
        "print(x_train)"
      ],
      "metadata": {
        "id": "J7x10UklgcSW"
      },
      "execution_count": null,
      "outputs": []
    },
    {
      "cell_type": "code",
      "source": [
        "from sklearn.model_selection import train_test_split\n",
        "z=train_test_split(x_train)\n",
        "print(z)"
      ],
      "metadata": {
        "id": "UJk5iEt5geTX"
      },
      "execution_count": null,
      "outputs": []
    },
    {
      "cell_type": "code",
      "source": [
        "a1=pd.read_csv('/content/heart.csv')\n",
        "print(a1)\n",
        "y=a1['target']\n",
        "x=a1.drop(columns=['target'])"
      ],
      "metadata": {
        "id": "iA5FLfmujZUl"
      },
      "execution_count": null,
      "outputs": []
    },
    {
      "cell_type": "code",
      "source": [
        "print(x)\n",
        "print(y)"
      ],
      "metadata": {
        "id": "ZedNFKDmm96c"
      },
      "execution_count": null,
      "outputs": []
    },
    {
      "cell_type": "code",
      "source": [
        "from sklearn.preprocessing import MinMaxScaler\n",
        "scaler=MinMaxScaler(feature_range=(0,1))\n",
        "x1_train=scaler.fit_transform(x);\n",
        "print(x1_train)\n",
        "from sklearn.model_selection import train_test_split\n",
        "x_train,x_test,y_train,y_test=train_test_split(x1_train,y,test_size=0.3)\n",
        "print(x_train.shape,y_train.shape,x_test.shape,y_test.shape)#x_train_shape=(212,13) ,y_train_shape=(212,)"
      ],
      "metadata": {
        "colab": {
          "base_uri": "https://localhost:8080/"
        },
        "id": "T62Z4JNfn2ZZ",
        "outputId": "5dc9962e-0bbb-4299-cbd6-18e278700264"
      },
      "execution_count": 60,
      "outputs": [
        {
          "output_type": "stream",
          "name": "stdout",
          "text": [
            "[[0.70833333 1.         1.         ... 0.         0.         0.33333333]\n",
            " [0.16666667 1.         0.66666667 ... 0.         0.         0.66666667]\n",
            " [0.25       0.         0.33333333 ... 1.         0.         0.66666667]\n",
            " ...\n",
            " [0.8125     1.         0.         ... 0.5        0.5        1.        ]\n",
            " [0.58333333 1.         0.         ... 0.5        0.25       1.        ]\n",
            " [0.58333333 0.         0.33333333 ... 0.5        0.25       0.66666667]]\n",
            "(212, 13) (212,) (91, 13) (91,)\n"
          ]
        }
      ]
    },
    {
      "cell_type": "code",
      "source": [
        "import numpy as np\n",
        "def perceptron(w, b):\n",
        "    y_p = []\n",
        "    for i in range(len(x_train)):\n",
        "        z = np.dot(x_train[i], w) + b\n",
        "        s = 1 / (1 + np.exp(-z))\n",
        "        if s >= 0.5:\n",
        "            y_p.append(1)\n",
        "        else:\n",
        "            y_p.append(0)\n",
        "    return y_p\n",
        "\n",
        "weights = np.ones(x_train.shape[1])\n",
        "bias = 0\n",
        "predicted = perceptron(weights, bias)\n",
        "print(len(predicted))\n",
        "print(np.ones(x_train.shape[1]))\n",
        "#print(predicted)\n",
        "from sklearn.metrics import accuracy_score\n",
        "accuracy = accuracy_score(y_train, predicted)\n",
        "print(f\"Accuracy: {accuracy:.2f}\")"
      ],
      "metadata": {
        "colab": {
          "base_uri": "https://localhost:8080/"
        },
        "id": "lIo8_7ABpJs-",
        "outputId": "e6bde535-10d4-4463-ca89-ebac37973b8c"
      },
      "execution_count": 67,
      "outputs": [
        {
          "output_type": "stream",
          "name": "stdout",
          "text": [
            "212\n",
            "[1. 1. 1. 1. 1. 1. 1. 1. 1. 1. 1. 1. 1.]\n",
            "[1, 1, 1, 1, 1, 1, 1, 1, 1, 1, 1, 1, 1, 1, 1, 1, 1, 1, 1, 1, 1, 1, 1, 1, 1, 1, 1, 1, 1, 1, 1, 1, 1, 1, 1, 1, 1, 1, 1, 1, 1, 1, 1, 1, 1, 1, 1, 1, 1, 1, 1, 1, 1, 1, 1, 1, 1, 1, 1, 1, 1, 1, 1, 1, 1, 1, 1, 1, 1, 1, 1, 1, 1, 1, 1, 1, 1, 1, 1, 1, 1, 1, 1, 1, 1, 1, 1, 1, 1, 1, 1, 1, 1, 1, 1, 1, 1, 1, 1, 1, 1, 1, 1, 1, 1, 1, 1, 1, 1, 1, 1, 1, 1, 1, 1, 1, 1, 1, 1, 1, 1, 1, 1, 1, 1, 1, 1, 1, 1, 1, 1, 1, 1, 1, 1, 1, 1, 1, 1, 1, 1, 1, 1, 1, 1, 1, 1, 1, 1, 1, 1, 1, 1, 1, 1, 1, 1, 1, 1, 1, 1, 1, 1, 1, 1, 1, 1, 1, 1, 1, 1, 1, 1, 1, 1, 1, 1, 1, 1, 1, 1, 1, 1, 1, 1, 1, 1, 1, 1, 1, 1, 1, 1, 1, 1, 1, 1, 1, 1, 1, 1, 1, 1, 1, 1, 1, 1, 1, 1, 1, 1, 1]\n",
            "Accuracy: 0.57\n"
          ]
        }
      ]
    }
  ]
}