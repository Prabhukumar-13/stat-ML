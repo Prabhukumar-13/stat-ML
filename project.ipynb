{
  "nbformat": 4,
  "nbformat_minor": 0,
  "metadata": {
    "colab": {
      "provenance": []
    },
    "kernelspec": {
      "name": "python3",
      "display_name": "Python 3"
    },
    "language_info": {
      "name": "python"
    }
  },
  "cells": [
    {
      "cell_type": "code",
      "execution_count": null,
      "metadata": {
        "id": "ZxZ7ys_44l9N"
      },
      "outputs": [],
      "source": [
        "import pandas as pd\n",
        "\n",
        "from sklearn.model_selection import train_test_split\n",
        "\n",
        "from sklearn.svm import SVC\n",
        "\n",
        "from sklearn.metrics import accuracy_score"
      ]
    },
    {
      "cell_type": "markdown",
      "source": [],
      "metadata": {
        "id": "wMFD8ziZhK1K"
      }
    },
    {
      "cell_type": "code",
      "source": [
        "dataset=pd.read_csv('/content/chess_king_rook_dataset.csv')\n",
        "\n",
        "print (dataset)"
      ],
      "metadata": {
        "id": "ZASnBHSW5HBj",
        "colab": {
          "base_uri": "https://localhost:8080/"
        },
        "outputId": "0bec1eca-32c6-4862-dec0-c4fff296ac92"
      },
      "execution_count": null,
      "outputs": [
        {
          "output_type": "stream",
          "name": "stdout",
          "text": [
            "      white_king_file  white_king_rank white_rook_file  white_rook_rank  \\\n",
            "0                   a                1               b                3   \n",
            "1                   a                1               c                1   \n",
            "2                   a                1               c                1   \n",
            "3                   a                1               c                1   \n",
            "4                   a                1               c                2   \n",
            "...               ...              ...             ...              ...   \n",
            "28051               b                1               g                7   \n",
            "28052               b                1               g                7   \n",
            "28053               b                1               g                7   \n",
            "28054               b                1               g                7   \n",
            "28055               b                1               g                7   \n",
            "\n",
            "      black_king_file  black_king_rank   result  \n",
            "0                   c                2     draw  \n",
            "1                   c                2     draw  \n",
            "2                   d                1     draw  \n",
            "3                   d                2     draw  \n",
            "4                   c                1     draw  \n",
            "...               ...              ...      ...  \n",
            "28051               e                5  sixteen  \n",
            "28052               e                6  sixteen  \n",
            "28053               e                7  sixteen  \n",
            "28054               f                5  sixteen  \n",
            "28055               g                5  sixteen  \n",
            "\n",
            "[28056 rows x 7 columns]\n"
          ]
        }
      ]
    },
    {
      "cell_type": "code",
      "source": [
        "dataset['white_king_file'] = dataset['white_king_file'].replace(['a', 'b', 'c', 'd', 'e', 'f', 'g', 'h'], ['1', '2', '3', '4', '5', '6', '7', '8'])\n",
        "\n",
        "dataset['white_rook_file'] = dataset['white_rook_file'].replace(['a', 'b', 'c', 'd', 'e', 'f', 'g', 'h'], ['1', '2', '3', '4', '5', '6', '7', '8'])\n",
        "\n",
        "dataset['black_king_file'] = dataset['black_king_file'].replace(['a', 'b', 'c', 'd', 'e', 'f', 'g', 'h'], ['1', '2', '3', '4', '5', '6', '7', '8'])\n",
        "\n",
        "dataset['result'] = dataset['result'].replace(\n",
        "    ['draw', 'zero', 'one', 'two', 'three', 'four', 'five', 'six', 'seven', 'eight', 'nine', 'ten', 'eleven', 'twelve',\n",
        "     'thirteen', 'fourteen', 'fifteen', 'sixteen'],\n",
        "    ['17', '0', '1', '2', '3', '4', '5', '6', '7', '8', '9', '10', '11', '12', '13', '14', '15', '16'])\n",
        "\n",
        "print (dataset)"
      ],
      "metadata": {
        "colab": {
          "base_uri": "https://localhost:8080/"
        },
        "id": "GTiz8Y7T5NEr",
        "outputId": "88eb25d8-de1c-4c07-dd0a-14767cdc13d1"
      },
      "execution_count": null,
      "outputs": [
        {
          "output_type": "stream",
          "name": "stdout",
          "text": [
            "      white_king_file  white_king_rank white_rook_file  white_rook_rank  \\\n",
            "0                   1                1               2                3   \n",
            "1                   1                1               3                1   \n",
            "2                   1                1               3                1   \n",
            "3                   1                1               3                1   \n",
            "4                   1                1               3                2   \n",
            "...               ...              ...             ...              ...   \n",
            "28051               2                1               7                7   \n",
            "28052               2                1               7                7   \n",
            "28053               2                1               7                7   \n",
            "28054               2                1               7                7   \n",
            "28055               2                1               7                7   \n",
            "\n",
            "      black_king_file  black_king_rank result  \n",
            "0                   3                2     17  \n",
            "1                   3                2     17  \n",
            "2                   4                1     17  \n",
            "3                   4                2     17  \n",
            "4                   3                1     17  \n",
            "...               ...              ...    ...  \n",
            "28051               5                5     16  \n",
            "28052               5                6     16  \n",
            "28053               5                7     16  \n",
            "28054               6                5     16  \n",
            "28055               7                5     16  \n",
            "\n",
            "[28056 rows x 7 columns]\n"
          ]
        }
      ]
    },
    {
      "cell_type": "code",
      "source": [
        "from pandas.core.api import isnull\n",
        "print (isnull(dataset))"
      ],
      "metadata": {
        "colab": {
          "base_uri": "https://localhost:8080/"
        },
        "id": "ynw_AOhC5qrN",
        "outputId": "cb09d74e-e800-4fae-8abb-2d5de1ea3dbc"
      },
      "execution_count": null,
      "outputs": [
        {
          "output_type": "stream",
          "name": "stdout",
          "text": [
            "       white_king_file  white_king_rank  white_rook_file  white_rook_rank  \\\n",
            "0                False            False            False            False   \n",
            "1                False            False            False            False   \n",
            "2                False            False            False            False   \n",
            "3                False            False            False            False   \n",
            "4                False            False            False            False   \n",
            "...                ...              ...              ...              ...   \n",
            "28051            False            False            False            False   \n",
            "28052            False            False            False            False   \n",
            "28053            False            False            False            False   \n",
            "28054            False            False            False            False   \n",
            "28055            False            False            False            False   \n",
            "\n",
            "       black_king_file  black_king_rank  result  \n",
            "0                False            False   False  \n",
            "1                False            False   False  \n",
            "2                False            False   False  \n",
            "3                False            False   False  \n",
            "4                False            False   False  \n",
            "...                ...              ...     ...  \n",
            "28051            False            False   False  \n",
            "28052            False            False   False  \n",
            "28053            False            False   False  \n",
            "28054            False            False   False  \n",
            "28055            False            False   False  \n",
            "\n",
            "[28056 rows x 7 columns]\n"
          ]
        }
      ]
    },
    {
      "cell_type": "code",
      "source": [
        "y = dataset['result']\n",
        "\n",
        "x = dataset.drop('result', axis=1)"
      ],
      "metadata": {
        "id": "ABw3JJJg5QVD"
      },
      "execution_count": null,
      "outputs": []
    },
    {
      "cell_type": "code",
      "source": [
        "x_train,x_test,y_train,y_test=train_test_split(x,y,test_size=0.10,random_state=85)#0.10,85"
      ],
      "metadata": {
        "id": "d0YQMgKj5VnF"
      },
      "execution_count": null,
      "outputs": []
    },
    {
      "cell_type": "code",
      "source": [
        "model = SVC()\n",
        "\n",
        "mm=model.fit(x_train, y_train)"
      ],
      "metadata": {
        "id": "xMWGZ1qN5Y7u"
      },
      "execution_count": null,
      "outputs": []
    },
    {
      "cell_type": "code",
      "source": [
        "y_predict = model.predict(x_test)"
      ],
      "metadata": {
        "id": "3VXj-0Lq5don"
      },
      "execution_count": null,
      "outputs": []
    },
    {
      "cell_type": "code",
      "source": [
        "accuracy = accuracy_score(y_test, y_predict)\n",
        "\n",
        "print(\"Accuracy Score:\", accuracy)"
      ],
      "metadata": {
        "colab": {
          "base_uri": "https://localhost:8080/"
        },
        "id": "AMoileDy5gNx",
        "outputId": "48afe928-3ba4-49d9-ce33-8090de1db394"
      },
      "execution_count": null,
      "outputs": [
        {
          "output_type": "stream",
          "name": "stdout",
          "text": [
            "Accuracy Score: 0.5441910192444761\n"
          ]
        }
      ]
    }
  ]
}